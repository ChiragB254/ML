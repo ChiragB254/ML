{
  "nbformat": 4,
  "nbformat_minor": 0,
  "metadata": {
    "colab": {
      "name": "Simple Linear Regression from Scratch .ipynb",
      "provenance": [],
      "collapsed_sections": []
    },
    "kernelspec": {
      "name": "python3",
      "display_name": "Python 3"
    }
  },
  "cells": [
    {
      "cell_type": "markdown",
      "metadata": {
        "id": "QAUWRyKcURnM"
      },
      "source": [
        "# Simple Linear Regression\n",
        "\n",
        "Using a single feature and a label\n",
        "\n",
        "Dataset - Salary Data"
      ]
    },
    {
      "cell_type": "markdown",
      "metadata": {
        "id": "4rGJUP6BUNmc"
      },
      "source": [
        "### Importing useful libraries"
      ]
    },
    {
      "cell_type": "code",
      "metadata": {
        "id": "VMX2WfHCSISP"
      },
      "source": [
        "import numpy as np # simplifies representing arrays and performing linear algebra operations\n",
        "import pandas as pd # provides an easy way to represent datasets in memory\n",
        "# analysis and visualizations\n",
        "import matplotlib.pyplot as plt \n",
        "import seaborn as sns"
      ],
      "execution_count": 62,
      "outputs": []
    },
    {
      "cell_type": "code",
      "metadata": {
        "id": "Oqw_loIxTJ4E"
      },
      "source": [
        "sns.set_style(\"whitegrid\") # to print the graphs in a white grid structure"
      ],
      "execution_count": 63,
      "outputs": []
    },
    {
      "cell_type": "markdown",
      "metadata": {
        "id": "VgvavbFgULCV"
      },
      "source": [
        "### Reading the dataset"
      ]
    },
    {
      "cell_type": "code",
      "metadata": {
        "id": "vq0_Yhd8SmGM",
        "outputId": "0420f38c-9de7-4aa5-b117-5332fa27bad6",
        "colab": {
          "base_uri": "https://localhost:8080/",
          "height": 213
        }
      },
      "source": [
        "df = pd.read_csv(\"Salary_Data.csv\")\n",
        "print(df.shape) # printing the shape of the dataset\n",
        "df.head() # displaying the first 5 feature examples of the dataset"
      ],
      "execution_count": 64,
      "outputs": [
        {
          "output_type": "stream",
          "text": [
            "(30, 2)\n"
          ],
          "name": "stdout"
        },
        {
          "output_type": "execute_result",
          "data": {
            "text/html": [
              "<div>\n",
              "<style scoped>\n",
              "    .dataframe tbody tr th:only-of-type {\n",
              "        vertical-align: middle;\n",
              "    }\n",
              "\n",
              "    .dataframe tbody tr th {\n",
              "        vertical-align: top;\n",
              "    }\n",
              "\n",
              "    .dataframe thead th {\n",
              "        text-align: right;\n",
              "    }\n",
              "</style>\n",
              "<table border=\"1\" class=\"dataframe\">\n",
              "  <thead>\n",
              "    <tr style=\"text-align: right;\">\n",
              "      <th></th>\n",
              "      <th>YearsExperience</th>\n",
              "      <th>Salary</th>\n",
              "    </tr>\n",
              "  </thead>\n",
              "  <tbody>\n",
              "    <tr>\n",
              "      <th>0</th>\n",
              "      <td>1.1</td>\n",
              "      <td>39343.0</td>\n",
              "    </tr>\n",
              "    <tr>\n",
              "      <th>1</th>\n",
              "      <td>1.3</td>\n",
              "      <td>46205.0</td>\n",
              "    </tr>\n",
              "    <tr>\n",
              "      <th>2</th>\n",
              "      <td>1.5</td>\n",
              "      <td>37731.0</td>\n",
              "    </tr>\n",
              "    <tr>\n",
              "      <th>3</th>\n",
              "      <td>2.0</td>\n",
              "      <td>43525.0</td>\n",
              "    </tr>\n",
              "    <tr>\n",
              "      <th>4</th>\n",
              "      <td>2.2</td>\n",
              "      <td>39891.0</td>\n",
              "    </tr>\n",
              "  </tbody>\n",
              "</table>\n",
              "</div>"
            ],
            "text/plain": [
              "   YearsExperience   Salary\n",
              "0              1.1  39343.0\n",
              "1              1.3  46205.0\n",
              "2              1.5  37731.0\n",
              "3              2.0  43525.0\n",
              "4              2.2  39891.0"
            ]
          },
          "metadata": {
            "tags": []
          },
          "execution_count": 64
        }
      ]
    },
    {
      "cell_type": "markdown",
      "metadata": {
        "id": "T8cPVNwHU0bK"
      },
      "source": [
        "### Checking if Null values are present"
      ]
    },
    {
      "cell_type": "code",
      "metadata": {
        "id": "KjcQuRA8TpRL",
        "outputId": "c3b2a53b-1175-4f03-ac48-7b25cc2058ba",
        "colab": {
          "base_uri": "https://localhost:8080/",
          "height": 70
        }
      },
      "source": [
        "df.isnull().sum()"
      ],
      "execution_count": 65,
      "outputs": [
        {
          "output_type": "execute_result",
          "data": {
            "text/plain": [
              "YearsExperience    0\n",
              "Salary             0\n",
              "dtype: int64"
            ]
          },
          "metadata": {
            "tags": []
          },
          "execution_count": 65
        }
      ]
    },
    {
      "cell_type": "markdown",
      "metadata": {
        "id": "HlS7Qu3nEz7z"
      },
      "source": [
        "### Splitting the dataset into train set and test set"
      ]
    },
    {
      "cell_type": "code",
      "metadata": {
        "id": "D2PKWZJKEnCc",
        "outputId": "f5840738-96fa-4417-f657-844286f8b9e2",
        "colab": {
          "base_uri": "https://localhost:8080/",
          "height": 343
        }
      },
      "source": [
        "train = df.iloc[:20]\n",
        "test = df.iloc[20:]\n",
        "test"
      ],
      "execution_count": 66,
      "outputs": [
        {
          "output_type": "execute_result",
          "data": {
            "text/html": [
              "<div>\n",
              "<style scoped>\n",
              "    .dataframe tbody tr th:only-of-type {\n",
              "        vertical-align: middle;\n",
              "    }\n",
              "\n",
              "    .dataframe tbody tr th {\n",
              "        vertical-align: top;\n",
              "    }\n",
              "\n",
              "    .dataframe thead th {\n",
              "        text-align: right;\n",
              "    }\n",
              "</style>\n",
              "<table border=\"1\" class=\"dataframe\">\n",
              "  <thead>\n",
              "    <tr style=\"text-align: right;\">\n",
              "      <th></th>\n",
              "      <th>YearsExperience</th>\n",
              "      <th>Salary</th>\n",
              "    </tr>\n",
              "  </thead>\n",
              "  <tbody>\n",
              "    <tr>\n",
              "      <th>20</th>\n",
              "      <td>6.8</td>\n",
              "      <td>91738.0</td>\n",
              "    </tr>\n",
              "    <tr>\n",
              "      <th>21</th>\n",
              "      <td>7.1</td>\n",
              "      <td>98273.0</td>\n",
              "    </tr>\n",
              "    <tr>\n",
              "      <th>22</th>\n",
              "      <td>7.9</td>\n",
              "      <td>101302.0</td>\n",
              "    </tr>\n",
              "    <tr>\n",
              "      <th>23</th>\n",
              "      <td>8.2</td>\n",
              "      <td>113812.0</td>\n",
              "    </tr>\n",
              "    <tr>\n",
              "      <th>24</th>\n",
              "      <td>8.7</td>\n",
              "      <td>109431.0</td>\n",
              "    </tr>\n",
              "    <tr>\n",
              "      <th>25</th>\n",
              "      <td>9.0</td>\n",
              "      <td>105582.0</td>\n",
              "    </tr>\n",
              "    <tr>\n",
              "      <th>26</th>\n",
              "      <td>9.5</td>\n",
              "      <td>116969.0</td>\n",
              "    </tr>\n",
              "    <tr>\n",
              "      <th>27</th>\n",
              "      <td>9.6</td>\n",
              "      <td>112635.0</td>\n",
              "    </tr>\n",
              "    <tr>\n",
              "      <th>28</th>\n",
              "      <td>10.3</td>\n",
              "      <td>122391.0</td>\n",
              "    </tr>\n",
              "    <tr>\n",
              "      <th>29</th>\n",
              "      <td>10.5</td>\n",
              "      <td>121872.0</td>\n",
              "    </tr>\n",
              "  </tbody>\n",
              "</table>\n",
              "</div>"
            ],
            "text/plain": [
              "    YearsExperience    Salary\n",
              "20              6.8   91738.0\n",
              "21              7.1   98273.0\n",
              "22              7.9  101302.0\n",
              "23              8.2  113812.0\n",
              "24              8.7  109431.0\n",
              "25              9.0  105582.0\n",
              "26              9.5  116969.0\n",
              "27              9.6  112635.0\n",
              "28             10.3  122391.0\n",
              "29             10.5  121872.0"
            ]
          },
          "metadata": {
            "tags": []
          },
          "execution_count": 66
        }
      ]
    },
    {
      "cell_type": "markdown",
      "metadata": {
        "id": "vz6rZTgnVVUc"
      },
      "source": [
        "### Extracting the values of feature and target variables"
      ]
    },
    {
      "cell_type": "code",
      "metadata": {
        "id": "gBs5wdnGVLce"
      },
      "source": [
        "X = train['YearsExperience'].values\n",
        "y = train['Salary'].values"
      ],
      "execution_count": 67,
      "outputs": []
    },
    {
      "cell_type": "markdown",
      "metadata": {
        "id": "BOh3wOwHVauL"
      },
      "source": [
        "### Visualizing the distribution of the data elements"
      ]
    },
    {
      "cell_type": "code",
      "metadata": {
        "id": "UPC2r3WmSrhu",
        "outputId": "83768a8a-d633-40b3-ac89-130ed7c2f9e8",
        "colab": {
          "base_uri": "https://localhost:8080/",
          "height": 282
        }
      },
      "source": [
        "sns.scatterplot(x = X, y = y)"
      ],
      "execution_count": 68,
      "outputs": [
        {
          "output_type": "execute_result",
          "data": {
            "text/plain": [
              "<matplotlib.axes._subplots.AxesSubplot at 0x7f0900baec88>"
            ]
          },
          "metadata": {
            "tags": []
          },
          "execution_count": 68
        },
        {
          "output_type": "display_data",
          "data": {
            "image/png": "[encoded data removed]",
            "text/plain": [
              "<Figure size 432x288 with 1 Axes>"
            ]
          },
          "metadata": {
            "tags": []
          }
        }
      ]
    },
    {
      "cell_type": "markdown",
      "metadata": {
        "id": "Q5863xVMe8AC"
      },
      "source": [
        "### Calculating the Coefficients\n",
        "\n",
        "The equation for linear regression is:\n",
        ">    `y = b0 + b1.X`\n",
        "\n",
        "We will try to calculate b0 and b1 for given X and y.\n",
        "\n",
        "We know that in regression analysis:\n",
        "\n",
        "$$b1 = \\frac{\\sum\\limits_{i = 1}^{n} [( X-X^{'} ) + (y-y^{'})]}{\\sum\\limits_{i = 1}^{n} ( X-X^{'} )^{2}}$$\n",
        "\n",
        "and we can calculate b0 by substituting the value of b1 in the regression equation at (X', y'):\n",
        ">    `b0 = y' - b1.X' `"
      ]
    },
    {
      "cell_type": "code",
      "metadata": {
        "id": "EWJCi-DrTGFF"
      },
      "source": [
        "# Mean of X and y\n",
        "def mean(value):\n",
        "    return np.mean(value)\n",
        "\n",
        "\n",
        "# calculating the coefficients b0 and b1\n",
        "def coef(X, y):\n",
        "    numer = np.sum((X-mean(X)) * (y - mean(y)))\n",
        "    denom = np.sum((X-mean(X))**2)\n",
        "    b1 = numer / denom\n",
        "    b0 = mean_y - (b1 * mean_x)\n",
        "    return b0, b1\n"
      ],
      "execution_count": 69,
      "outputs": []
    },
    {
      "cell_type": "markdown",
      "metadata": {
        "id": "PtMXymibDjm_"
      },
      "source": [
        "# Making Predictions on the `test` Dataset\n",
        "\n",
        "After calculating the coefficients b0 and b1, we calculate `yhat` using these coefficients but the x from our `test` dataset:\n",
        ">    `yhat = b0 + b1.test_X`\n",
        "\n",
        "We collect these `yhat` in predictions"
      ]
    },
    {
      "cell_type": "code",
      "metadata": {
        "id": "VfwLv_F6Duid"
      },
      "source": [
        "def simple_linear_regression(X, y, test_x):\n",
        "\tpredictions = list()\n",
        "\tb0, b1 = coef(X, y)\n",
        "\tfor ax in test_x:\n",
        "\t\tyhat = b0 + b1 * ax\n",
        "\t\tpredictions.append(yhat)\n",
        "\treturn predictions"
      ],
      "execution_count": 70,
      "outputs": []
    },
    {
      "cell_type": "code",
      "metadata": {
        "id": "16dwV9XxEJyS",
        "outputId": "d6f76d4d-1cea-4776-d024-115c9cd3e649",
        "colab": {
          "base_uri": "https://localhost:8080/",
          "height": 72
        }
      },
      "source": [
        "# printing the coefficients and the prediction\n",
        "test_x = test['YearsExperience'].values\n",
        "print(coef(X, y))\n",
        "print(simple_linear_regression(X, y, test_x))"
      ],
      "execution_count": 71,
      "outputs": [
        {
          "output_type": "stream",
          "text": [
            "(27566.046546986043, 9116.114200692715)\n",
            "[89555.6231116965, 92290.45737190431, 99583.34873245849, 102318.18299266629, 106876.24009301266, 109611.07435322047, 114169.13145356684, 115080.7428736361, 121462.02281412101, 123285.24565425955]\n"
          ],
          "name": "stdout"
        }
      ]
    },
    {
      "cell_type": "markdown",
      "metadata": {
        "id": "VBPnawEPCLfX"
      },
      "source": [
        "### Calculating the Root Mean Squared Error\n",
        "\n",
        "The Root Mean Squared Error is defined as:\n",
        "$$rmse = \\sqrt{\\frac{\\sum\\limits_{i=0}^{n} ( Y_{predicted}- Y_{actual} ) ^ 2}{n}}  $$"
      ]
    },
    {
      "cell_type": "code",
      "metadata": {
        "id": "Ea9nJLjgH8RX"
      },
      "source": [
        "def rmse_metric(actual, predicted):\n",
        "    sum_error = np.sum((predicted - actual) ** 2)\n",
        "    mean_error = sum_error / float(len(actual))\n",
        "    return np.sqrt(mean_error)"
      ],
      "execution_count": 72,
      "outputs": []
    },
    {
      "cell_type": "code",
      "metadata": {
        "id": "oPWQ2h3yIxRu",
        "outputId": "edca5a7a-1e45-47b6-dda2-9ccd8f0ea8ed",
        "colab": {
          "base_uri": "https://localhost:8080/",
          "height": 34
        }
      },
      "source": [
        "predicted = simple_linear_regression(X, y, test_x)\n",
        "test_y = test['Salary'].values\n",
        "error = rmse_metric(test_y, predicted)\n",
        "error"
      ],
      "execution_count": 73,
      "outputs": [
        {
          "output_type": "execute_result",
          "data": {
            "text/plain": [
              "4637.419530898866"
            ]
          },
          "metadata": {
            "tags": []
          },
          "execution_count": 73
        }
      ]
    },
    {
      "cell_type": "markdown",
      "metadata": {
        "id": "ccFPQpU_PIJI"
      },
      "source": [
        "### Visualizing the Model"
      ]
    },
    {
      "cell_type": "code",
      "metadata": {
        "id": "U7IJetaWPMl2",
        "outputId": "75cecd1b-53f6-4a72-ca34-8d9deefaf4b8",
        "colab": {
          "base_uri": "https://localhost:8080/",
          "height": 700
        }
      },
      "source": [
        "#visulaising the model\n",
        "plt.figure(figsize=(15,10))\n",
        "sns.scatterplot(test_x,test_y, color = 'blue')\n",
        "sns.lineplot(test_x,predicted, color = 'red',linewidth = 2)"
      ],
      "execution_count": 74,
      "outputs": [
        {
          "output_type": "stream",
          "text": [
            "/usr/local/lib/python3.6/dist-packages/seaborn/_decorators.py:43: FutureWarning: Pass the following variables as keyword args: x, y. From version 0.12, the only valid positional argument will be `data`, and passing other arguments without an explicit keyword will result in an error or misinterpretation.\n",
            "  FutureWarning\n",
            "/usr/local/lib/python3.6/dist-packages/seaborn/_decorators.py:43: FutureWarning: Pass the following variables as keyword args: x, y. From version 0.12, the only valid positional argument will be `data`, and passing other arguments without an explicit keyword will result in an error or misinterpretation.\n",
            "  FutureWarning\n"
          ],
          "name": "stderr"
        },
        {
          "output_type": "execute_result",
          "data": {
            "text/plain": [
              "<matplotlib.axes._subplots.AxesSubplot at 0x7f0900c3a588>"
            ]
          },
          "metadata": {
            "tags": []
          },
          "execution_count": 74
        },
        {
          "output_type": "display_data",
          "data": {
            "image/png": "[encoded data removed]",
            "text/plain": [
              "<Figure size 1080x720 with 1 Axes>"
            ]
          },
          "metadata": {
            "tags": []
          }
        }
      ]
    }
  ]
}