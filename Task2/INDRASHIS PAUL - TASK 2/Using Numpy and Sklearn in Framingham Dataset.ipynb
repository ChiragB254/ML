{
 "cells": [
  {
   "cell_type": "markdown",
   "metadata": {
    "id": "Vm_TmzL2rvqq"
   },
   "source": [
    "# Classification model to predict 10-year risk of future coronary heart disease (CHD) - Task 2 of ML Track"
   ]
  },
  {
   "cell_type": "markdown",
   "metadata": {
    "id": "dRwqkLSQxTjP"
   },
   "source": [
    "### About the dataset:\n",
    "\n",
    "The dataset is publically available on the Kaggle website, and it is from an ongoing cardiovascular study on residents of the town of Framingham, Massachusetts. The classification goal is to predict whether the patient has 10-year risk of future coronary heart disease (CHD).The dataset provides the patients’ information. It includes over 4,240 records and 15 attributes.\n",
    "\n",
    "### Task:\n",
    "To use at least 10 numpy and sklearn library functions"
   ]
  },
  {
   "cell_type": "markdown",
   "metadata": {
    "id": "mLhl31GfrS90"
   },
   "source": [
    "# Importing Libraries"
   ]
  },
  {
   "cell_type": "code",
   "execution_count": 54,
   "metadata": {
    "id": "S-WNYYiErIfd"
   },
   "outputs": [],
   "source": [
    "# Data Loading and Numerical Operations\n",
    "import pandas as pd\n",
    "import numpy as np\n",
    "# Data Visualizations\n",
    "import matplotlib.pyplot as plt\n",
    "%matplotlib inline\n",
    "import seaborn as sns\n",
    "# Data Resampling\n",
    "from sklearn.utils import resample\n",
    "# Data Feature Selection\n",
    "from sklearn.feature_selection import SelectKBest\n",
    "from sklearn.feature_selection import chi2\n",
    "# Data Splitting\n",
    "from sklearn.model_selection import train_test_split\n",
    "# Data Scaling\n",
    "from sklearn.preprocessing import MinMaxScaler\n",
    "# Data Modeling\n",
    "from sklearn.linear_model import LogisticRegression\n",
    "from sklearn.neighbors import KNeighborsClassifier\n",
    "from sklearn.ensemble import RandomForestClassifier, GradientBoostingClassifier\n",
    "from sklearn.tree import DecisionTreeClassifier\n",
    "from xgboost import XGBClassifier\n",
    "from sklearn.metrics import confusion_matrix, accuracy_score, roc_curve, classification_report\n",
    "# Hyperparameter Tuning\n",
    "from sklearn.model_selection import RandomizedSearchCV\n",
    "from sklearn.model_selection import GridSearchCV\n",
    "# Ensembling\n",
    "from mlxtend.classifier import StackingCVClassifier"
   ]
  },
  {
   "cell_type": "markdown",
   "metadata": {
    "id": "312jDtRbrX0V"
   },
   "source": [
    "# Reading Dataset"
   ]
  },
  {
   "cell_type": "code",
   "execution_count": 3,
   "metadata": {
    "colab": {
     "base_uri": "https://localhost:8080/",
     "height": 0
    },
    "id": "pIfuIirhuwgH",
    "outputId": "06d86ca3-da7c-453e-f17b-48ab66fe7165"
   },
   "outputs": [
    {
     "data": {
      "text/plain": [
       "(4240, 16)"
      ]
     },
     "execution_count": 3,
     "metadata": {},
     "output_type": "execute_result"
    }
   ],
   "source": [
    "data = pd.read_csv(\"framingham.csv\") # Reading and converting the data into a pandas dataframe\n",
    "data.shape # Calculating the dimensions of the dataset"
   ]
  },
  {
   "cell_type": "code",
   "execution_count": 4,
   "metadata": {
    "colab": {
     "base_uri": "https://localhost:8080/",
     "height": 0
    },
    "id": "C456njpsu6fb",
    "outputId": "575984ac-a8b5-48ef-8df0-198cbb8e2f82"
   },
   "outputs": [
    {
     "data": {
      "text/html": [
       "<div>\n",
       "<style scoped>\n",
       "    .dataframe tbody tr th:only-of-type {\n",
       "        vertical-align: middle;\n",
       "    }\n",
       "\n",
       "    .dataframe tbody tr th {\n",
       "        vertical-align: top;\n",
       "    }\n",
       "\n",
       "    .dataframe thead th {\n",
       "        text-align: right;\n",
       "    }\n",
       "</style>\n",
       "<table border=\"1\" class=\"dataframe\">\n",
       "  <thead>\n",
       "    <tr style=\"text-align: right;\">\n",
       "      <th></th>\n",
       "      <th>male</th>\n",
       "      <th>age</th>\n",
       "      <th>education</th>\n",
       "      <th>currentSmoker</th>\n",
       "      <th>cigsPerDay</th>\n",
       "      <th>BPMeds</th>\n",
       "      <th>prevalentStroke</th>\n",
       "      <th>prevalentHyp</th>\n",
       "      <th>diabetes</th>\n",
       "      <th>totChol</th>\n",
       "      <th>sysBP</th>\n",
       "      <th>diaBP</th>\n",
       "      <th>BMI</th>\n",
       "      <th>heartRate</th>\n",
       "      <th>glucose</th>\n",
       "      <th>TenYearCHD</th>\n",
       "    </tr>\n",
       "  </thead>\n",
       "  <tbody>\n",
       "    <tr>\n",
       "      <th>0</th>\n",
       "      <td>1</td>\n",
       "      <td>39</td>\n",
       "      <td>4.0</td>\n",
       "      <td>0</td>\n",
       "      <td>0.0</td>\n",
       "      <td>0.0</td>\n",
       "      <td>0</td>\n",
       "      <td>0</td>\n",
       "      <td>0</td>\n",
       "      <td>195.0</td>\n",
       "      <td>106.0</td>\n",
       "      <td>70.0</td>\n",
       "      <td>26.97</td>\n",
       "      <td>80.0</td>\n",
       "      <td>77.0</td>\n",
       "      <td>0</td>\n",
       "    </tr>\n",
       "    <tr>\n",
       "      <th>1</th>\n",
       "      <td>0</td>\n",
       "      <td>46</td>\n",
       "      <td>2.0</td>\n",
       "      <td>0</td>\n",
       "      <td>0.0</td>\n",
       "      <td>0.0</td>\n",
       "      <td>0</td>\n",
       "      <td>0</td>\n",
       "      <td>0</td>\n",
       "      <td>250.0</td>\n",
       "      <td>121.0</td>\n",
       "      <td>81.0</td>\n",
       "      <td>28.73</td>\n",
       "      <td>95.0</td>\n",
       "      <td>76.0</td>\n",
       "      <td>0</td>\n",
       "    </tr>\n",
       "    <tr>\n",
       "      <th>2</th>\n",
       "      <td>1</td>\n",
       "      <td>48</td>\n",
       "      <td>1.0</td>\n",
       "      <td>1</td>\n",
       "      <td>20.0</td>\n",
       "      <td>0.0</td>\n",
       "      <td>0</td>\n",
       "      <td>0</td>\n",
       "      <td>0</td>\n",
       "      <td>245.0</td>\n",
       "      <td>127.5</td>\n",
       "      <td>80.0</td>\n",
       "      <td>25.34</td>\n",
       "      <td>75.0</td>\n",
       "      <td>70.0</td>\n",
       "      <td>0</td>\n",
       "    </tr>\n",
       "    <tr>\n",
       "      <th>3</th>\n",
       "      <td>0</td>\n",
       "      <td>61</td>\n",
       "      <td>3.0</td>\n",
       "      <td>1</td>\n",
       "      <td>30.0</td>\n",
       "      <td>0.0</td>\n",
       "      <td>0</td>\n",
       "      <td>1</td>\n",
       "      <td>0</td>\n",
       "      <td>225.0</td>\n",
       "      <td>150.0</td>\n",
       "      <td>95.0</td>\n",
       "      <td>28.58</td>\n",
       "      <td>65.0</td>\n",
       "      <td>103.0</td>\n",
       "      <td>1</td>\n",
       "    </tr>\n",
       "    <tr>\n",
       "      <th>4</th>\n",
       "      <td>0</td>\n",
       "      <td>46</td>\n",
       "      <td>3.0</td>\n",
       "      <td>1</td>\n",
       "      <td>23.0</td>\n",
       "      <td>0.0</td>\n",
       "      <td>0</td>\n",
       "      <td>0</td>\n",
       "      <td>0</td>\n",
       "      <td>285.0</td>\n",
       "      <td>130.0</td>\n",
       "      <td>84.0</td>\n",
       "      <td>23.10</td>\n",
       "      <td>85.0</td>\n",
       "      <td>85.0</td>\n",
       "      <td>0</td>\n",
       "    </tr>\n",
       "    <tr>\n",
       "      <th>5</th>\n",
       "      <td>0</td>\n",
       "      <td>43</td>\n",
       "      <td>2.0</td>\n",
       "      <td>0</td>\n",
       "      <td>0.0</td>\n",
       "      <td>0.0</td>\n",
       "      <td>0</td>\n",
       "      <td>1</td>\n",
       "      <td>0</td>\n",
       "      <td>228.0</td>\n",
       "      <td>180.0</td>\n",
       "      <td>110.0</td>\n",
       "      <td>30.30</td>\n",
       "      <td>77.0</td>\n",
       "      <td>99.0</td>\n",
       "      <td>0</td>\n",
       "    </tr>\n",
       "    <tr>\n",
       "      <th>6</th>\n",
       "      <td>0</td>\n",
       "      <td>63</td>\n",
       "      <td>1.0</td>\n",
       "      <td>0</td>\n",
       "      <td>0.0</td>\n",
       "      <td>0.0</td>\n",
       "      <td>0</td>\n",
       "      <td>0</td>\n",
       "      <td>0</td>\n",
       "      <td>205.0</td>\n",
       "      <td>138.0</td>\n",
       "      <td>71.0</td>\n",
       "      <td>33.11</td>\n",
       "      <td>60.0</td>\n",
       "      <td>85.0</td>\n",
       "      <td>1</td>\n",
       "    </tr>\n",
       "    <tr>\n",
       "      <th>7</th>\n",
       "      <td>0</td>\n",
       "      <td>45</td>\n",
       "      <td>2.0</td>\n",
       "      <td>1</td>\n",
       "      <td>20.0</td>\n",
       "      <td>0.0</td>\n",
       "      <td>0</td>\n",
       "      <td>0</td>\n",
       "      <td>0</td>\n",
       "      <td>313.0</td>\n",
       "      <td>100.0</td>\n",
       "      <td>71.0</td>\n",
       "      <td>21.68</td>\n",
       "      <td>79.0</td>\n",
       "      <td>78.0</td>\n",
       "      <td>0</td>\n",
       "    </tr>\n",
       "    <tr>\n",
       "      <th>8</th>\n",
       "      <td>1</td>\n",
       "      <td>52</td>\n",
       "      <td>1.0</td>\n",
       "      <td>0</td>\n",
       "      <td>0.0</td>\n",
       "      <td>0.0</td>\n",
       "      <td>0</td>\n",
       "      <td>1</td>\n",
       "      <td>0</td>\n",
       "      <td>260.0</td>\n",
       "      <td>141.5</td>\n",
       "      <td>89.0</td>\n",
       "      <td>26.36</td>\n",
       "      <td>76.0</td>\n",
       "      <td>79.0</td>\n",
       "      <td>0</td>\n",
       "    </tr>\n",
       "    <tr>\n",
       "      <th>9</th>\n",
       "      <td>1</td>\n",
       "      <td>43</td>\n",
       "      <td>1.0</td>\n",
       "      <td>1</td>\n",
       "      <td>30.0</td>\n",
       "      <td>0.0</td>\n",
       "      <td>0</td>\n",
       "      <td>1</td>\n",
       "      <td>0</td>\n",
       "      <td>225.0</td>\n",
       "      <td>162.0</td>\n",
       "      <td>107.0</td>\n",
       "      <td>23.61</td>\n",
       "      <td>93.0</td>\n",
       "      <td>88.0</td>\n",
       "      <td>0</td>\n",
       "    </tr>\n",
       "  </tbody>\n",
       "</table>\n",
       "</div>"
      ],
      "text/plain": [
       "   male  age  education  currentSmoker  cigsPerDay  BPMeds  prevalentStroke  \\\n",
       "0     1   39        4.0              0         0.0     0.0                0   \n",
       "1     0   46        2.0              0         0.0     0.0                0   \n",
       "2     1   48        1.0              1        20.0     0.0                0   \n",
       "3     0   61        3.0              1        30.0     0.0                0   \n",
       "4     0   46        3.0              1        23.0     0.0                0   \n",
       "5     0   43        2.0              0         0.0     0.0                0   \n",
       "6     0   63        1.0              0         0.0     0.0                0   \n",
       "7     0   45        2.0              1        20.0     0.0                0   \n",
       "8     1   52        1.0              0         0.0     0.0                0   \n",
       "9     1   43        1.0              1        30.0     0.0                0   \n",
       "\n",
       "   prevalentHyp  diabetes  totChol  sysBP  diaBP    BMI  heartRate  glucose  \\\n",
       "0             0         0    195.0  106.0   70.0  26.97       80.0     77.0   \n",
       "1             0         0    250.0  121.0   81.0  28.73       95.0     76.0   \n",
       "2             0         0    245.0  127.5   80.0  25.34       75.0     70.0   \n",
       "3             1         0    225.0  150.0   95.0  28.58       65.0    103.0   \n",
       "4             0         0    285.0  130.0   84.0  23.10       85.0     85.0   \n",
       "5             1         0    228.0  180.0  110.0  30.30       77.0     99.0   \n",
       "6             0         0    205.0  138.0   71.0  33.11       60.0     85.0   \n",
       "7             0         0    313.0  100.0   71.0  21.68       79.0     78.0   \n",
       "8             1         0    260.0  141.5   89.0  26.36       76.0     79.0   \n",
       "9             1         0    225.0  162.0  107.0  23.61       93.0     88.0   \n",
       "\n",
       "   TenYearCHD  \n",
       "0           0  \n",
       "1           0  \n",
       "2           0  \n",
       "3           1  \n",
       "4           0  \n",
       "5           0  \n",
       "6           1  \n",
       "7           0  \n",
       "8           0  \n",
       "9           0  "
      ]
     },
     "execution_count": 4,
     "metadata": {},
     "output_type": "execute_result"
    }
   ],
   "source": [
    "data.head(10)"
   ]
  },
  {
   "cell_type": "code",
   "execution_count": 5,
   "metadata": {
    "colab": {
     "base_uri": "https://localhost:8080/",
     "height": 0
    },
    "id": "I9mslxuhu-h8",
    "outputId": "6edb6542-685b-4766-c8ae-6fd7e0948544"
   },
   "outputs": [
    {
     "name": "stdout",
     "output_type": "stream",
     "text": [
      "<class 'pandas.core.frame.DataFrame'>\n",
      "RangeIndex: 4240 entries, 0 to 4239\n",
      "Data columns (total 16 columns):\n",
      " #   Column           Non-Null Count  Dtype  \n",
      "---  ------           --------------  -----  \n",
      " 0   male             4240 non-null   int64  \n",
      " 1   age              4240 non-null   int64  \n",
      " 2   education        4135 non-null   float64\n",
      " 3   currentSmoker    4240 non-null   int64  \n",
      " 4   cigsPerDay       4211 non-null   float64\n",
      " 5   BPMeds           4187 non-null   float64\n",
      " 6   prevalentStroke  4240 non-null   int64  \n",
      " 7   prevalentHyp     4240 non-null   int64  \n",
      " 8   diabetes         4240 non-null   int64  \n",
      " 9   totChol          4190 non-null   float64\n",
      " 10  sysBP            4240 non-null   float64\n",
      " 11  diaBP            4240 non-null   float64\n",
      " 12  BMI              4221 non-null   float64\n",
      " 13  heartRate        4239 non-null   float64\n",
      " 14  glucose          3852 non-null   float64\n",
      " 15  TenYearCHD       4240 non-null   int64  \n",
      "dtypes: float64(9), int64(7)\n",
      "memory usage: 530.1 KB\n"
     ]
    }
   ],
   "source": [
    "data.info()"
   ]
  },
  {
   "cell_type": "markdown",
   "metadata": {
    "id": "7tuYGH9dOiPC"
   },
   "source": [
    "This shows an overview of the Columns, non-null count and the data types of the dataset"
   ]
  },
  {
   "cell_type": "markdown",
   "metadata": {
    "id": "SZjmspvaxY__"
   },
   "source": [
    "### Attributes:\n",
    "\n",
    "* **sex**: male(0) or female(1);(Nominal)\n",
    "* **age**: age of the patient;(Continuous - Although the recorded ages have been truncated to whole numbers, the concept of age is continuous)\n",
    "* **currentSmoker**: whether or not the patient is a current smoker (Nominal)\n",
    "* **cigsPerDay**: the number of cigarettes that the person smoked on average in one day.(can be considered continuous as one can have any number of cigarettes, even half a cigarette.)\n",
    "* **BPMeds**: whether or not the patient was on blood pressure medication (Nominal)\n",
    "* **prevalentStroke**: whether or not the patient had previously had a stroke (Nominal)\n",
    "* **prevalentHyp**: whether or not the patient was hypertensive (Nominal)\n",
    "* **diabetes**: whether or not the patient had diabetes (Nominal)\n",
    "* **totChol**: total cholesterol level (Continuous)\n",
    "* **sysBP**: systolic blood pressure (Continuous)\n",
    "* **diaBP**: diastolic blood pressure (Continuous)\n",
    "* **BMI**: Body Mass Index (Continuous)\n",
    "* **heartRate**: heart rate (Continuous - In medical research, variables such as heart rate though in fact discrete, yet are considered continuous because of a large number of possible values.)\n",
    "* **glucose**: glucose level (Continuous)\n",
    "* **10 year risk of coronary heart disease CHD** (binary: “1” means “Yes”, “0” means “No”) - Target Variable\n"
   ]
  },
  {
   "cell_type": "markdown",
   "metadata": {
    "id": "DuFjl_G_NaU8"
   },
   "source": [
    "# Data Inspecting and Cleaning "
   ]
  },
  {
   "cell_type": "code",
   "execution_count": 6,
   "metadata": {
    "colab": {
     "base_uri": "https://localhost:8080/",
     "height": 0
    },
    "id": "qgfUGJv8vGHb",
    "outputId": "dc44007f-cae3-4282-8c5a-5e4ca4e0a1c6"
   },
   "outputs": [
    {
     "data": {
      "text/plain": [
       "male                 0\n",
       "age                  0\n",
       "education          105\n",
       "currentSmoker        0\n",
       "cigsPerDay          29\n",
       "BPMeds              53\n",
       "prevalentStroke      0\n",
       "prevalentHyp         0\n",
       "diabetes             0\n",
       "totChol             50\n",
       "sysBP                0\n",
       "diaBP                0\n",
       "BMI                 19\n",
       "heartRate            1\n",
       "glucose            388\n",
       "TenYearCHD           0\n",
       "dtype: int64"
      ]
     },
     "execution_count": 6,
     "metadata": {},
     "output_type": "execute_result"
    }
   ],
   "source": [
    "data.isnull().sum()"
   ]
  },
  {
   "cell_type": "markdown",
   "metadata": {
    "id": "ULmQMWftPH-B"
   },
   "source": [
    "It shows the number of np.nan or null values or missing values are present in the dataset:\n",
    "* education: 105\n",
    "* cigsPerDay: 29\n",
    "* BPMeds: 53\n",
    "* totChol: 50\n",
    "* BMI: 19\n",
    "* heartRate: 1\n",
    "* glucose: 388"
   ]
  },
  {
   "cell_type": "code",
   "execution_count": 7,
   "metadata": {
    "colab": {
     "base_uri": "https://localhost:8080/",
     "height": 0
    },
    "id": "JRiGOs1hv-dZ",
    "outputId": "c0584933-ce44-4f57-8790-56ce38e2fe2c"
   },
   "outputs": [
    {
     "data": {
      "text/plain": [
       "0"
      ]
     },
     "execution_count": 7,
     "metadata": {},
     "output_type": "execute_result"
    }
   ],
   "source": [
    "data.duplicated().sum()"
   ]
  },
  {
   "cell_type": "markdown",
   "metadata": {
    "id": "HtrK4rKOP8CB"
   },
   "source": [
    "It shows that there are no Duplicated Values present in the dataset."
   ]
  },
  {
   "cell_type": "code",
   "execution_count": 8,
   "metadata": {
    "colab": {
     "base_uri": "https://localhost:8080/",
     "height": 0
    },
    "id": "7xVSDTMS2498",
    "outputId": "acea8381-8dbf-4ee6-f75d-0329f2cc092f"
   },
   "outputs": [
    {
     "name": "stdout",
     "output_type": "stream",
     "text": [
      "75.0\n"
     ]
    }
   ],
   "source": [
    "print((data[\"glucose\"].mode())[0])"
   ]
  },
  {
   "cell_type": "code",
   "execution_count": 9,
   "metadata": {
    "id": "5KOq-WcB0JRn"
   },
   "outputs": [],
   "source": [
    "data[\"glucose\"].fillna((data[\"glucose\"].mode())[0], inplace=True)"
   ]
  },
  {
   "cell_type": "markdown",
   "metadata": {
    "id": "6R365XPgRtiR"
   },
   "source": [
    "Filling the missing spaces of `glucose`column with the mode of the data (Mode = 75) present to reduce the number of missing data in our dataset"
   ]
  },
  {
   "cell_type": "code",
   "execution_count": 10,
   "metadata": {
    "colab": {
     "base_uri": "https://localhost:8080/",
     "height": 0
    },
    "id": "uUOvM9F418Tj",
    "outputId": "af33cea7-ad96-438c-b354-a4d94f464978"
   },
   "outputs": [
    {
     "data": {
      "text/plain": [
       "male               0\n",
       "age                0\n",
       "education          0\n",
       "currentSmoker      0\n",
       "cigsPerDay         0\n",
       "BPMeds             0\n",
       "prevalentStroke    0\n",
       "prevalentHyp       0\n",
       "diabetes           0\n",
       "totChol            0\n",
       "sysBP              0\n",
       "diaBP              0\n",
       "BMI                0\n",
       "heartRate          0\n",
       "glucose            0\n",
       "TenYearCHD         0\n",
       "dtype: int64"
      ]
     },
     "execution_count": 10,
     "metadata": {},
     "output_type": "execute_result"
    }
   ],
   "source": [
    "data.dropna(inplace=True)\n",
    "data.isnull().sum()"
   ]
  },
  {
   "cell_type": "markdown",
   "metadata": {
    "id": "S2VrRleV4QO8"
   },
   "source": [
    "Dropping all other rows containing missing values"
   ]
  },
  {
   "cell_type": "code",
   "execution_count": 11,
   "metadata": {
    "colab": {
     "base_uri": "https://localhost:8080/",
     "height": 0
    },
    "id": "5zbWcBxM4O2A",
    "outputId": "edfcddb2-0f47-45e7-e837-571cf57c4dd7"
   },
   "outputs": [
    {
     "data": {
      "image/png": "[encoded data removed]",
      "text/plain": [
       "<Figure size 1440x720 with 1 Axes>"
      ]
     },
     "metadata": {},
     "output_type": "display_data"
    }
   ],
   "source": [
    "plt.figure(figsize=(20,10), facecolor='w')\n",
    "sns.boxplot(data=data)\n",
    "plt.show()"
   ]
  },
  {
   "cell_type": "markdown",
   "metadata": {
    "id": "o0oYK7pkVUH0"
   },
   "source": [
    "Removable Outliers are detected in `totChol` and `sysBP` columns of our dataset. Outliers in all other numerical columns are important and thus cannot be removed."
   ]
  },
  {
   "cell_type": "code",
   "execution_count": 12,
   "metadata": {
    "colab": {
     "base_uri": "https://localhost:8080/",
     "height": 0
    },
    "id": "PBs6BrLD4tv4",
    "outputId": "b9e19155-b0d2-4304-9768-7e54fab24161"
   },
   "outputs": [
    {
     "data": {
      "text/plain": [
       "600.0"
      ]
     },
     "execution_count": 12,
     "metadata": {},
     "output_type": "execute_result"
    }
   ],
   "source": [
    "data['totChol'].max()"
   ]
  },
  {
   "cell_type": "markdown",
   "metadata": {
    "id": "LCAtXk8gf3wK"
   },
   "source": [
    "The Outlier present in `totChol` is 600."
   ]
  },
  {
   "cell_type": "code",
   "execution_count": 13,
   "metadata": {
    "colab": {
     "base_uri": "https://localhost:8080/",
     "height": 0
    },
    "id": "kTq0yC2AVx81",
    "outputId": "52724dd6-79e6-44ac-d2c1-0c51e2b07451"
   },
   "outputs": [
    {
     "data": {
      "text/plain": [
       "295.0"
      ]
     },
     "execution_count": 13,
     "metadata": {},
     "output_type": "execute_result"
    }
   ],
   "source": [
    "data['sysBP'].max()"
   ]
  },
  {
   "cell_type": "markdown",
   "metadata": {
    "id": "oAbwDOI_gOO5"
   },
   "source": [
    "The Outlier present in `sysBP` is 295."
   ]
  },
  {
   "cell_type": "code",
   "execution_count": 14,
   "metadata": {
    "colab": {
     "base_uri": "https://localhost:8080/",
     "height": 0
    },
    "id": "jCkcF-CgfTJi",
    "outputId": "efecdedd-acb1-4215-9f12-73161ca3ae15"
   },
   "outputs": [
    {
     "data": {
      "text/plain": [
       "(3987, 16)"
      ]
     },
     "execution_count": 14,
     "metadata": {},
     "output_type": "execute_result"
    }
   ],
   "source": [
    "data = data[data['totChol']<600.0]\n",
    "data = data[data['sysBP']<295.0]\n",
    "data.shape"
   ]
  },
  {
   "cell_type": "markdown",
   "metadata": {
    "id": "hicssgOshDaB"
   },
   "source": [
    "Now with the missing values, outliers and duplicate values dealt with, we proceed to perform EDA"
   ]
  },
  {
   "cell_type": "markdown",
   "metadata": {
    "id": "hcqm89CjuQJ8"
   },
   "source": [
    "# Resampling imbalanced dataset by oversampling positive cases"
   ]
  },
  {
   "cell_type": "code",
   "execution_count": 15,
   "metadata": {
    "id": "uLCD-pw_uQJ8"
   },
   "outputs": [],
   "source": [
    "target1=data[data['TenYearCHD']==1]\n",
    "target0=data[data['TenYearCHD']==0]"
   ]
  },
  {
   "cell_type": "code",
   "execution_count": 16,
   "metadata": {
    "id": "plOM9GvfuQJ_"
   },
   "outputs": [],
   "source": [
    "target1=resample(target1,replace=True,n_samples=len(target0),random_state=40)"
   ]
  },
  {
   "cell_type": "code",
   "execution_count": 17,
   "metadata": {
    "id": "Lw_f686TuQKB"
   },
   "outputs": [],
   "source": [
    "target=pd.concat([target0,target1])"
   ]
  },
  {
   "cell_type": "code",
   "execution_count": 18,
   "metadata": {
    "colab": {
     "base_uri": "https://localhost:8080/",
     "height": 0
    },
    "id": "sjPnJH8OuQKE",
    "outputId": "e1216cec-6c4c-402e-f026-d270a54edb99"
   },
   "outputs": [
    {
     "data": {
      "text/plain": [
       "1    3394\n",
       "0    3394\n",
       "Name: TenYearCHD, dtype: int64"
      ]
     },
     "execution_count": 18,
     "metadata": {},
     "output_type": "execute_result"
    }
   ],
   "source": [
    "target['TenYearCHD'].value_counts()"
   ]
  },
  {
   "cell_type": "code",
   "execution_count": 19,
   "metadata": {
    "colab": {
     "base_uri": "https://localhost:8080/",
     "height": 0
    },
    "id": "j1RDvXc5uQKG",
    "outputId": "7025fa9e-a6ff-4bd5-86df-67cda81ca811"
   },
   "outputs": [
    {
     "data": {
      "text/plain": [
       "(6788, 16)"
      ]
     },
     "execution_count": 19,
     "metadata": {},
     "output_type": "execute_result"
    }
   ],
   "source": [
    "data=target\n",
    "np.shape(data)"
   ]
  },
  {
   "cell_type": "code",
   "execution_count": 20,
   "metadata": {
    "colab": {
     "base_uri": "https://localhost:8080/",
     "height": 0
    },
    "id": "Yv2e8ClNuQKI",
    "outputId": "6305de4e-dc6c-4392-dba2-c20426304ffe"
   },
   "outputs": [
    {
     "data": {
      "image/png": "[encoded data removed]",
      "text/plain": [
       "<Figure size 864x720 with 2 Axes>"
      ]
     },
     "metadata": {},
     "output_type": "display_data"
    }
   ],
   "source": [
    "#Distribution of heart disease cases in the balanced dataset, the outcome variable\n",
    "plt.figure(figsize=(12, 10), facecolor='w')\n",
    "plt.subplots_adjust(right=1.5)\n",
    "plt.subplot(121)\n",
    "sns.countplot(x=\"TenYearCHD\", data=data)\n",
    "plt.title(\"Count of TenYearCHD column\", size=20)\n",
    "plt.subplot(122)\n",
    "labels=[0,1]\n",
    "plt.pie(data[\"TenYearCHD\"].value_counts(),autopct=\"%1.1f%%\",labels=labels,colors=[\"red\",\"lime\"])\n",
    "plt.show()"
   ]
  },
  {
   "cell_type": "markdown",
   "metadata": {
    "id": "J8ZKWvGLuQKK"
   },
   "source": [
    "The number of positive and negative cases are equal. Hence the classes are now balanced for model fitting"
   ]
  },
  {
   "cell_type": "markdown",
   "metadata": {
    "id": "8701aLrTuQMA"
   },
   "source": [
    "# Feature Selection\n"
   ]
  },
  {
   "cell_type": "code",
   "execution_count": 21,
   "metadata": {
    "colab": {
     "base_uri": "https://localhost:8080/",
     "height": 0
    },
    "id": "XcLhe_M3uQMB",
    "outputId": "70d76e31-35e7-4de3-c47d-ec953627745c"
   },
   "outputs": [
    {
     "name": "stdout",
     "output_type": "stream",
     "text": [
      "X -  (6788, 15) \n",
      "y -  (6788,)\n"
     ]
    }
   ],
   "source": [
    "#To idenfify the features that have larger contribution towards the outcome variable, TenYearCHD\n",
    "X=data.iloc[:,0:15]\n",
    "y=data.iloc[:,-1]\n",
    "print(\"X - \", X.shape, \"\\ny - \", y.shape)"
   ]
  },
  {
   "cell_type": "code",
   "execution_count": 22,
   "metadata": {
    "id": "SbYGYRwDuQMC"
   },
   "outputs": [],
   "source": [
    "#Apply SelectKBest and extract top 10 features\n",
    "best=SelectKBest(score_func=chi2, k=10)"
   ]
  },
  {
   "cell_type": "code",
   "execution_count": 23,
   "metadata": {
    "id": "YIZb9Rs3uQME"
   },
   "outputs": [],
   "source": [
    "fit=best.fit(X,y)"
   ]
  },
  {
   "cell_type": "code",
   "execution_count": 24,
   "metadata": {
    "id": "nmxaYawDuQMG"
   },
   "outputs": [],
   "source": [
    "data_scores=pd.DataFrame(fit.scores_)\n",
    "data_columns=pd.DataFrame(X.columns)"
   ]
  },
  {
   "cell_type": "code",
   "execution_count": 25,
   "metadata": {
    "colab": {
     "base_uri": "https://localhost:8080/",
     "height": 0
    },
    "id": "wkdajonQuQMI",
    "outputId": "38b3fedc-95b2-472c-904e-3138d68dc23b"
   },
   "outputs": [
    {
     "name": "stdout",
     "output_type": "stream",
     "text": [
      "         Feature        Score\n",
      "10         sysBP  2121.922128\n",
      "14       glucose  1232.342416\n",
      "1            age  1006.482991\n",
      "4     cigsPerDay   788.788750\n",
      "9        totChol   769.066248\n",
      "11         diaBP   486.662514\n",
      "7   prevalentHyp   221.104823\n",
      "0           male    66.775610\n",
      "5         BPMeds    66.216216\n",
      "8       diabetes    54.258065\n",
      "12           BMI    44.717502\n"
     ]
    }
   ],
   "source": [
    "#Join the two dataframes\n",
    "scores=pd.concat([data_columns,data_scores],axis=1)\n",
    "scores.columns=['Feature','Score']\n",
    "print(scores.nlargest(11,'Score'))"
   ]
  },
  {
   "cell_type": "code",
   "execution_count": 26,
   "metadata": {
    "colab": {
     "base_uri": "https://localhost:8080/",
     "height": 0
    },
    "id": "W9pAT3Q2uQMK",
    "outputId": "3c6117f3-f79e-451a-f274-c4a3fa7b6bea"
   },
   "outputs": [
    {
     "data": {
      "image/png": "[encoded data removed]",
      "text/plain": [
       "<Figure size 1440x504 with 1 Axes>"
      ]
     },
     "metadata": {},
     "output_type": "display_data"
    }
   ],
   "source": [
    "#To visualize feature selection\n",
    "scores=scores.sort_values(by=\"Score\", ascending=False)\n",
    "plt.figure(figsize=(20,7), facecolor='w')\n",
    "sns.barplot(x='Feature',y='Score',data=scores,palette='BuGn_r')\n",
    "plt.title(\"Plot showing the best features in descending order\", size=20)\n",
    "plt.show()"
   ]
  },
  {
   "cell_type": "markdown",
   "metadata": {
    "id": "NGtQ2K2_uQMN"
   },
   "source": [
    "This plot shows the `Features` and their respective `chi-square test` scores"
   ]
  },
  {
   "cell_type": "code",
   "execution_count": 27,
   "metadata": {
    "colab": {
     "base_uri": "https://localhost:8080/",
     "height": 0
    },
    "id": "BvArAN-ruQMN",
    "outputId": "f74dc1f3-263f-4c24-d061-02c22c545c3f"
   },
   "outputs": [
    {
     "data": {
      "text/plain": [
       "['sysBP',\n",
       " 'glucose',\n",
       " 'age',\n",
       " 'cigsPerDay',\n",
       " 'totChol',\n",
       " 'diaBP',\n",
       " 'prevalentHyp',\n",
       " 'male',\n",
       " 'BPMeds',\n",
       " 'diabetes']"
      ]
     },
     "execution_count": 27,
     "metadata": {},
     "output_type": "execute_result"
    }
   ],
   "source": [
    "#Select 10 features\n",
    "features=scores[\"Feature\"].tolist()[:10]\n",
    "features"
   ]
  },
  {
   "cell_type": "markdown",
   "metadata": {
    "id": "xePEaNEyuQMO"
   },
   "source": [
    "Only these features have strongest influence over the target variable. They are, in particular order:\n",
    "* sysBP\n",
    "* glucose\n",
    "* age\n",
    "* cigsPerDay\n",
    "* totChol\n",
    "* diaBP\n",
    "* prevalentHyp\n",
    "* male\n",
    "* BPMeds\n",
    "* diabetes\n"
   ]
  },
  {
   "cell_type": "code",
   "execution_count": 28,
   "metadata": {
    "colab": {
     "base_uri": "https://localhost:8080/",
     "height": 0
    },
    "id": "IP3LZYW_uQMP",
    "outputId": "36005d2e-2132-4416-be13-2d487d6a29da"
   },
   "outputs": [
    {
     "data": {
      "text/html": [
       "<div>\n",
       "<style scoped>\n",
       "    .dataframe tbody tr th:only-of-type {\n",
       "        vertical-align: middle;\n",
       "    }\n",
       "\n",
       "    .dataframe tbody tr th {\n",
       "        vertical-align: top;\n",
       "    }\n",
       "\n",
       "    .dataframe thead th {\n",
       "        text-align: right;\n",
       "    }\n",
       "</style>\n",
       "<table border=\"1\" class=\"dataframe\">\n",
       "  <thead>\n",
       "    <tr style=\"text-align: right;\">\n",
       "      <th></th>\n",
       "      <th>sysBP</th>\n",
       "      <th>glucose</th>\n",
       "      <th>age</th>\n",
       "      <th>cigsPerDay</th>\n",
       "      <th>totChol</th>\n",
       "      <th>diaBP</th>\n",
       "      <th>prevalentHyp</th>\n",
       "      <th>male</th>\n",
       "      <th>BPMeds</th>\n",
       "      <th>diabetes</th>\n",
       "      <th>TenYearCHD</th>\n",
       "    </tr>\n",
       "  </thead>\n",
       "  <tbody>\n",
       "    <tr>\n",
       "      <th>0</th>\n",
       "      <td>106.0</td>\n",
       "      <td>77.0</td>\n",
       "      <td>39</td>\n",
       "      <td>0.0</td>\n",
       "      <td>195.0</td>\n",
       "      <td>70.0</td>\n",
       "      <td>0</td>\n",
       "      <td>1</td>\n",
       "      <td>0.0</td>\n",
       "      <td>0</td>\n",
       "      <td>0</td>\n",
       "    </tr>\n",
       "    <tr>\n",
       "      <th>1</th>\n",
       "      <td>121.0</td>\n",
       "      <td>76.0</td>\n",
       "      <td>46</td>\n",
       "      <td>0.0</td>\n",
       "      <td>250.0</td>\n",
       "      <td>81.0</td>\n",
       "      <td>0</td>\n",
       "      <td>0</td>\n",
       "      <td>0.0</td>\n",
       "      <td>0</td>\n",
       "      <td>0</td>\n",
       "    </tr>\n",
       "    <tr>\n",
       "      <th>2</th>\n",
       "      <td>127.5</td>\n",
       "      <td>70.0</td>\n",
       "      <td>48</td>\n",
       "      <td>20.0</td>\n",
       "      <td>245.0</td>\n",
       "      <td>80.0</td>\n",
       "      <td>0</td>\n",
       "      <td>1</td>\n",
       "      <td>0.0</td>\n",
       "      <td>0</td>\n",
       "      <td>0</td>\n",
       "    </tr>\n",
       "    <tr>\n",
       "      <th>4</th>\n",
       "      <td>130.0</td>\n",
       "      <td>85.0</td>\n",
       "      <td>46</td>\n",
       "      <td>23.0</td>\n",
       "      <td>285.0</td>\n",
       "      <td>84.0</td>\n",
       "      <td>0</td>\n",
       "      <td>0</td>\n",
       "      <td>0.0</td>\n",
       "      <td>0</td>\n",
       "      <td>0</td>\n",
       "    </tr>\n",
       "    <tr>\n",
       "      <th>5</th>\n",
       "      <td>180.0</td>\n",
       "      <td>99.0</td>\n",
       "      <td>43</td>\n",
       "      <td>0.0</td>\n",
       "      <td>228.0</td>\n",
       "      <td>110.0</td>\n",
       "      <td>1</td>\n",
       "      <td>0</td>\n",
       "      <td>0.0</td>\n",
       "      <td>0</td>\n",
       "      <td>0</td>\n",
       "    </tr>\n",
       "  </tbody>\n",
       "</table>\n",
       "</div>"
      ],
      "text/plain": [
       "   sysBP  glucose  age  cigsPerDay  totChol  diaBP  prevalentHyp  male  \\\n",
       "0  106.0     77.0   39         0.0    195.0   70.0             0     1   \n",
       "1  121.0     76.0   46         0.0    250.0   81.0             0     0   \n",
       "2  127.5     70.0   48        20.0    245.0   80.0             0     1   \n",
       "4  130.0     85.0   46        23.0    285.0   84.0             0     0   \n",
       "5  180.0     99.0   43         0.0    228.0  110.0             1     0   \n",
       "\n",
       "   BPMeds  diabetes  TenYearCHD  \n",
       "0     0.0         0           0  \n",
       "1     0.0         0           0  \n",
       "2     0.0         0           0  \n",
       "4     0.0         0           0  \n",
       "5     0.0         0           0  "
      ]
     },
     "execution_count": 28,
     "metadata": {},
     "output_type": "execute_result"
    }
   ],
   "source": [
    "data=data[['sysBP','glucose','age','cigsPerDay','totChol','diaBP','prevalentHyp','male','BPMeds','diabetes','TenYearCHD']]\n",
    "data.head()"
   ]
  },
  {
   "cell_type": "markdown",
   "metadata": {
    "id": "3fXeR3tziiMR"
   },
   "source": [
    "# Feature Splitting and Scaling"
   ]
  },
  {
   "cell_type": "code",
   "execution_count": 29,
   "metadata": {
    "id": "X4noCUHEik9b"
   },
   "outputs": [],
   "source": [
    "y = data['TenYearCHD']\n",
    "X = data.drop(['TenYearCHD'], axis=1)\n",
    "train_x, test_x, train_y, test_y = train_test_split(X, y, test_size=0.4, random_state=1)"
   ]
  },
  {
   "cell_type": "markdown",
   "metadata": {
    "id": "f4-AsLUtjju3"
   },
   "source": [
    "We divide the dataset into training and test sub-datasets for predictive modeling"
   ]
  },
  {
   "cell_type": "code",
   "execution_count": 30,
   "metadata": {
    "id": "UV6IdsnPjiNV"
   },
   "outputs": [],
   "source": [
    "scaler = MinMaxScaler()\n",
    "train_x = scaler.fit_transform(train_x)\n",
    "test_x = scaler.transform(test_x)"
   ]
  },
  {
   "cell_type": "markdown",
   "metadata": {
    "id": "3o2D6PAalNWQ"
   },
   "source": [
    "# Predictive Modeling"
   ]
  },
  {
   "cell_type": "markdown",
   "metadata": {
    "id": "kFa9NRy6lRB-"
   },
   "source": [
    "We use the following different machine learning models for the dataset:\n",
    "\n",
    "1. Logistic Regressor\n",
    "2. K-Nearest Neighbour Classifier\n",
    "3. Random Forest Classifier\n",
    "4. Decision Tree Classifier\n",
    "5. Gradient Boosting Classifier\n",
    "6. Extreme Gradient Boosting Classifier"
   ]
  },
  {
   "cell_type": "code",
   "execution_count": 31,
   "metadata": {
    "colab": {
     "base_uri": "https://localhost:8080/",
     "height": 298
    },
    "id": "vEKu6uOVkRuf",
    "outputId": "8f22a502-8a9b-4391-c6cd-bb537cae873e"
   },
   "outputs": [
    {
     "name": "stdout",
     "output_type": "stream",
     "text": [
      "confussion matrix\n",
      "[[879 473]\n",
      " [408 956]]\n",
      "\n",
      "\n",
      "Accuracy of Logistic Regression: 67.56259204712813 \n",
      "\n",
      "              precision    recall  f1-score   support\n",
      "\n",
      "           0       0.68      0.65      0.67      1352\n",
      "           1       0.67      0.70      0.68      1364\n",
      "\n",
      "    accuracy                           0.68      2716\n",
      "   macro avg       0.68      0.68      0.68      2716\n",
      "weighted avg       0.68      0.68      0.68      2716\n",
      "\n"
     ]
    }
   ],
   "source": [
    "m1 = 'LogisticRegression'\n",
    "lr = LogisticRegression(random_state=1, max_iter=1000)\n",
    "model = lr.fit(train_x, train_y)\n",
    "lr_predict = lr.predict(test_x)\n",
    "lr_conf_matrix = confusion_matrix(test_y, lr_predict)\n",
    "lr_acc_score = accuracy_score(test_y, lr_predict)\n",
    "print(\"confussion matrix\")\n",
    "print(lr_conf_matrix)\n",
    "print(\"\\n\")\n",
    "print(\"Accuracy of Logistic Regression:\",lr_acc_score*100,'\\n')\n",
    "print(classification_report(test_y,lr_predict))"
   ]
  },
  {
   "cell_type": "code",
   "execution_count": 32,
   "metadata": {
    "colab": {
     "base_uri": "https://localhost:8080/",
     "height": 298
    },
    "id": "qLg10YHkmb9h",
    "outputId": "988a18ae-d623-4737-e6a4-20beb161bbcf"
   },
   "outputs": [
    {
     "name": "stdout",
     "output_type": "stream",
     "text": [
      "confussion matrix\n",
      "[[1106  246]\n",
      " [  26 1338]]\n",
      "\n",
      "\n",
      "Accuracy of k-NN Classification: 89.98527245949927 \n",
      "\n",
      "              precision    recall  f1-score   support\n",
      "\n",
      "           0       0.98      0.82      0.89      1352\n",
      "           1       0.84      0.98      0.91      1364\n",
      "\n",
      "    accuracy                           0.90      2716\n",
      "   macro avg       0.91      0.90      0.90      2716\n",
      "weighted avg       0.91      0.90      0.90      2716\n",
      "\n"
     ]
    }
   ],
   "source": [
    "m2 = 'KNeighborsClassifier'\n",
    "knn = KNeighborsClassifier(n_neighbors=1)\n",
    "model = knn.fit(train_x, train_y)\n",
    "knn_predict = knn.predict(test_x)\n",
    "knn_conf_matrix = confusion_matrix(test_y, knn_predict)\n",
    "knn_acc_score = accuracy_score(test_y, knn_predict)\n",
    "print(\"confussion matrix\")\n",
    "print(knn_conf_matrix)\n",
    "print(\"\\n\")\n",
    "print(\"Accuracy of k-NN Classification:\",knn_acc_score*100,'\\n')\n",
    "print(classification_report(test_y, knn_predict))"
   ]
  },
  {
   "cell_type": "code",
   "execution_count": 33,
   "metadata": {
    "colab": {
     "base_uri": "https://localhost:8080/",
     "height": 298
    },
    "id": "l50O5z3lquhO",
    "outputId": "b83ea8eb-f0a9-4565-88fc-3e9a8c383fe4"
   },
   "outputs": [
    {
     "name": "stdout",
     "output_type": "stream",
     "text": [
      "confussion matrix\n",
      "[[1140  212]\n",
      " [  49 1315]]\n",
      "\n",
      "\n",
      "Accuracy of Random Forest: 90.39027982326951 \n",
      "\n",
      "              precision    recall  f1-score   support\n",
      "\n",
      "           0       0.96      0.84      0.90      1352\n",
      "           1       0.86      0.96      0.91      1364\n",
      "\n",
      "    accuracy                           0.90      2716\n",
      "   macro avg       0.91      0.90      0.90      2716\n",
      "weighted avg       0.91      0.90      0.90      2716\n",
      "\n"
     ]
    }
   ],
   "source": [
    "m3 = 'Random Forest Classfier'\n",
    "rf = RandomForestClassifier(n_estimators=200, random_state=0,max_depth=12)\n",
    "rf.fit(train_x,train_y)\n",
    "rf_predicted = rf.predict(test_x)\n",
    "rf_conf_matrix = confusion_matrix(test_y, rf_predicted)\n",
    "rf_acc_score = accuracy_score(test_y, rf_predicted)\n",
    "print(\"confussion matrix\")\n",
    "print(rf_conf_matrix)\n",
    "print(\"\\n\")\n",
    "print(\"Accuracy of Random Forest:\",rf_acc_score*100,'\\n')\n",
    "print(classification_report(test_y,rf_predicted))"
   ]
  },
  {
   "cell_type": "code",
   "execution_count": 34,
   "metadata": {
    "colab": {
     "base_uri": "https://localhost:8080/",
     "height": 298
    },
    "id": "V_xQgDodiIJH",
    "outputId": "0ab8d71b-b4e2-4439-ef34-37da38e685aa"
   },
   "outputs": [
    {
     "name": "stdout",
     "output_type": "stream",
     "text": [
      "confussion matrix\n",
      "[[1075  277]\n",
      " [  31 1333]]\n",
      "\n",
      "\n",
      "Accuracy of DecisionTreeClassifier: 88.65979381443299 \n",
      "\n",
      "              precision    recall  f1-score   support\n",
      "\n",
      "           0       0.97      0.80      0.87      1352\n",
      "           1       0.83      0.98      0.90      1364\n",
      "\n",
      "    accuracy                           0.89      2716\n",
      "   macro avg       0.90      0.89      0.89      2716\n",
      "weighted avg       0.90      0.89      0.89      2716\n",
      "\n"
     ]
    }
   ],
   "source": [
    "m4 = 'DecisionTreeClassifier'\n",
    "dt = DecisionTreeClassifier(criterion = 'entropy',random_state=0,max_depth = 30)\n",
    "dt.fit(train_x,train_y)\n",
    "dt_predicted = dt.predict(test_x)\n",
    "dt_conf_matrix = confusion_matrix(test_y, dt_predicted)\n",
    "dt_acc_score = accuracy_score(test_y, dt_predicted)\n",
    "print(\"confussion matrix\")\n",
    "print(dt_conf_matrix)\n",
    "print(\"\\n\")\n",
    "print(\"Accuracy of DecisionTreeClassifier:\",dt_acc_score*100,'\\n')\n",
    "print(classification_report(test_y,dt_predicted))"
   ]
  },
  {
   "cell_type": "code",
   "execution_count": 35,
   "metadata": {
    "colab": {
     "base_uri": "https://localhost:8080/",
     "height": 298
    },
    "id": "jDes7RVtijxd",
    "outputId": "d3440991-9cbe-44e5-c3a2-380aec55c39d"
   },
   "outputs": [
    {
     "name": "stdout",
     "output_type": "stream",
     "text": [
      "confussion matrix\n",
      "[[1094  258]\n",
      " [  39 1325]]\n",
      "\n",
      "\n",
      "Accuracy of Gradient Boosting Classifier: 89.06480117820324 \n",
      "\n",
      "              precision    recall  f1-score   support\n",
      "\n",
      "           0       0.97      0.81      0.88      1352\n",
      "           1       0.84      0.97      0.90      1364\n",
      "\n",
      "    accuracy                           0.89      2716\n",
      "   macro avg       0.90      0.89      0.89      2716\n",
      "weighted avg       0.90      0.89      0.89      2716\n",
      "\n"
     ]
    }
   ],
   "source": [
    "m5 = 'Gradient Boosting Classifier'\n",
    "gvc =  GradientBoostingClassifier(learning_rate=0.01, max_depth=10, n_estimators=200)\n",
    "gvc.fit(train_x,train_y)\n",
    "gvc_predicted = gvc.predict(test_x)\n",
    "gvc_conf_matrix = confusion_matrix(test_y, gvc_predicted)\n",
    "gvc_acc_score = accuracy_score(test_y, gvc_predicted)\n",
    "print(\"confussion matrix\")\n",
    "print(gvc_conf_matrix)\n",
    "print(\"\\n\")\n",
    "print(\"Accuracy of Gradient Boosting Classifier:\",gvc_acc_score*100,'\\n')\n",
    "print(classification_report(test_y,gvc_predicted))"
   ]
  },
  {
   "cell_type": "code",
   "execution_count": 36,
   "metadata": {
    "colab": {
     "base_uri": "https://localhost:8080/",
     "height": 298
    },
    "id": "Xeudd8PK54rz",
    "outputId": "01235ba3-e73a-4266-83f2-c2df7c4509f9"
   },
   "outputs": [
    {
     "name": "stdout",
     "output_type": "stream",
     "text": [
      "confussion matrix\n",
      "[[1095  257]\n",
      " [  57 1307]]\n",
      "\n",
      "\n",
      "Accuracy of Gradient Boosting Classifier: 88.43888070692194 \n",
      "\n",
      "              precision    recall  f1-score   support\n",
      "\n",
      "           0       0.95      0.81      0.87      1352\n",
      "           1       0.84      0.96      0.89      1364\n",
      "\n",
      "    accuracy                           0.88      2716\n",
      "   macro avg       0.89      0.88      0.88      2716\n",
      "weighted avg       0.89      0.88      0.88      2716\n",
      "\n"
     ]
    }
   ],
   "source": [
    "m6 = 'Extreme Gradient Boosting Classifier'\n",
    "xgb =  XGBClassifier(learning_rate=0.01, max_depth=10, n_estimators=500)\n",
    "xgb.fit(train_x,train_y)\n",
    "xgb_predicted = xgb.predict(test_x)\n",
    "xgb_conf_matrix = confusion_matrix(test_y, xgb_predicted)\n",
    "xgb_acc_score = accuracy_score(test_y, xgb_predicted)\n",
    "print(\"confussion matrix\")\n",
    "print(xgb_conf_matrix)\n",
    "print(\"\\n\")\n",
    "print(\"Accuracy of Gradient Boosting Classifier:\",xgb_acc_score*100,'\\n')\n",
    "print(classification_report(test_y,xgb_predicted))"
   ]
  },
  {
   "cell_type": "markdown",
   "metadata": {
    "id": "JEIHuxdAqXzk"
   },
   "source": [
    "## Hyperparameter Tuning for best Classifier\n",
    "#### Using Randomized Search Cross Validation"
   ]
  },
  {
   "cell_type": "markdown",
   "metadata": {
    "id": "__aVZxHoEZJs"
   },
   "source": [
    "### Random Forest Classifier"
   ]
  },
  {
   "cell_type": "code",
   "execution_count": 37,
   "metadata": {
    "colab": {
     "base_uri": "https://localhost:8080/",
     "height": 54
    },
    "id": "rqoTIlgTp3pV",
    "outputId": "7db61da5-dfd2-4a4c-bfb7-1d6ee6fdd458"
   },
   "outputs": [
    {
     "name": "stdout",
     "output_type": "stream",
     "text": [
      "{'n_estimators': [200, 400, 600, 800, 1000, 1200, 1400, 1600, 1800, 2000], 'max_features': ['auto', 'sqrt'], 'max_depth': [10, 20, 30, 40, 50, 60, 70, 80, 90, 100, 110, None], 'min_samples_split': [2, 5, 10], 'min_samples_leaf': [1, 2, 4], 'bootstrap': [True, False]}\n"
     ]
    }
   ],
   "source": [
    "# Number of trees in random forest\n",
    "n_estimators = [int(x) for x in np.linspace(start = 200, stop = 2000, num = 10)]\n",
    "\n",
    "# Number of features to consider at every split\n",
    "max_features = ['auto', 'sqrt']\n",
    "\n",
    "# Maximum number of levels in tree\n",
    "max_depth = [int(x) for x in np.linspace(10, 110, num = 11)]\n",
    "max_depth.append(None)\n",
    "\n",
    "# Minimum number of samples required to split a node\n",
    "min_samples_split = [2, 5, 10]\n",
    "\n",
    "# Minimum number of samples required at each leaf node\n",
    "min_samples_leaf = [1, 2, 4]\n",
    "\n",
    "# Method of selecting samples for training each tree\n",
    "bootstrap = [True, False]\n",
    "\n",
    "# Create the random grid\n",
    "random_grid = {'n_estimators': n_estimators,\n",
    "               'max_features': max_features,\n",
    "               'max_depth': max_depth,\n",
    "               'min_samples_split': min_samples_split,\n",
    "               'min_samples_leaf': min_samples_leaf,\n",
    "               'bootstrap': bootstrap}\n",
    "print(random_grid)"
   ]
  },
  {
   "cell_type": "code",
   "execution_count": 38,
   "metadata": {
    "colab": {
     "base_uri": "https://localhost:8080/",
     "height": 70
    },
    "id": "vFve0sbSqipF",
    "outputId": "2f0045fc-ed94-4a38-eb24-b335979718d6"
   },
   "outputs": [
    {
     "name": "stdout",
     "output_type": "stream",
     "text": [
      "Fitting 3 folds for each of 100 candidates, totalling 300 fits\n"
     ]
    },
    {
     "name": "stderr",
     "output_type": "stream",
     "text": [
      "[Parallel(n_jobs=-1)]: Using backend LokyBackend with 8 concurrent workers.\n",
      "[Parallel(n_jobs=-1)]: Done  25 tasks      | elapsed:   49.2s\n",
      "[Parallel(n_jobs=-1)]: Done 146 tasks      | elapsed:  3.3min\n",
      "[Parallel(n_jobs=-1)]: Done 300 out of 300 | elapsed:  7.3min finished\n"
     ]
    },
    {
     "data": {
      "text/plain": [
       "RandomizedSearchCV(cv=3, estimator=RandomForestClassifier(), n_iter=100,\n",
       "                   n_jobs=-1,\n",
       "                   param_distributions={'bootstrap': [True, False],\n",
       "                                        'max_depth': [10, 20, 30, 40, 50, 60,\n",
       "                                                      70, 80, 90, 100, 110,\n",
       "                                                      None],\n",
       "                                        'max_features': ['auto', 'sqrt'],\n",
       "                                        'min_samples_leaf': [1, 2, 4],\n",
       "                                        'min_samples_split': [2, 5, 10],\n",
       "                                        'n_estimators': [200, 400, 600, 800,\n",
       "                                                         1000, 1200, 1400, 1600,\n",
       "                                                         1800, 2000]},\n",
       "                   random_state=7, verbose=2)"
      ]
     },
     "execution_count": 38,
     "metadata": {},
     "output_type": "execute_result"
    }
   ],
   "source": [
    "# Use the random grid to search for best hyperparameters\n",
    "# First create the base model to tune\n",
    "rf = RandomForestClassifier()\n",
    "\n",
    "# Random search of parameters, using 3 fold cross validation, \n",
    "# search across 100 different combinations, and use all available cores\n",
    "rf_random = RandomizedSearchCV(estimator = rf, \n",
    "                               param_distributions = random_grid, \n",
    "                               n_iter = 100, \n",
    "                               cv = 3, \n",
    "                               verbose=2, \n",
    "                               random_state=7, \n",
    "                               n_jobs = -1)\n",
    "\n",
    "# Fit the random search model\n",
    "rf_random.fit(train_x,train_y)"
   ]
  },
  {
   "cell_type": "code",
   "execution_count": 39,
   "metadata": {
    "id": "yduUIfEOqrUE"
   },
   "outputs": [
    {
     "name": "stdout",
     "output_type": "stream",
     "text": [
      "Accuracy on training set is : 1.0\n",
      "Accuracy on validation set is : 0.9561855670103093\n",
      "Accuracy of Hyper-tuned Random Forest Classifier: 95.61855670103093 \n",
      "\n",
      "              precision    recall  f1-score   support\n",
      "\n",
      "           0       0.97      0.94      0.96      1352\n",
      "           1       0.94      0.98      0.96      1364\n",
      "\n",
      "    accuracy                           0.96      2716\n",
      "   macro avg       0.96      0.96      0.96      2716\n",
      "weighted avg       0.96      0.96      0.96      2716\n",
      "\n"
     ]
    }
   ],
   "source": [
    "rf_hyper = rf_random.best_estimator_\n",
    "rf_hyper.fit(train_x,train_y)\n",
    "print(\"Accuracy on training set is : {}\".format(rf_hyper.score(train_x,train_y)))\n",
    "print(\"Accuracy on validation set is : {}\".format(rf_hyper.score(test_x, test_y)))\n",
    "rf_predicted = rf_hyper.predict(test_x)\n",
    "rf_acc_score = accuracy_score(test_y, rf_predicted)\n",
    "print(\"Accuracy of Hyper-tuned Random Forest Classifier:\",rf_acc_score*100,'\\n')\n",
    "print(classification_report(test_y, rf_predicted))"
   ]
  },
  {
   "cell_type": "markdown",
   "metadata": {
    "id": "ytvEZdPzEjol"
   },
   "source": [
    "### Gradient Boosting Classifier"
   ]
  },
  {
   "cell_type": "code",
   "execution_count": 40,
   "metadata": {
    "id": "-VZbUP-juQMw"
   },
   "outputs": [],
   "source": [
    "#Number of trees\n",
    "n_estimators = [int(i) for i in np.linspace(start=100,stop=1000,num=10)]\n",
    "#Number of features to consider at every split\n",
    "max_features = ['auto','sqrt']\n",
    "#Maximum number of levels in tree\n",
    "max_depth = [int(i) for i in np.linspace(10, 100, num=10)]\n",
    "max_depth.append(None)\n",
    "#Minimum number of samples required to split a node\n",
    "min_samples_split=[2,5,10]\n",
    "#Minimum number of samples required at each leaf node\n",
    "min_samples_leaf = [1,2,4]\n",
    "\n",
    "#Create the random grid\n",
    "random_grid = {'n_estimators': n_estimators,\n",
    "               'max_features': max_features,\n",
    "               'max_depth': max_depth,\n",
    "               'min_samples_split': min_samples_split,\n",
    "               'min_samples_leaf': min_samples_leaf}"
   ]
  },
  {
   "cell_type": "code",
   "execution_count": 41,
   "metadata": {
    "id": "3rH19GbvuQMz",
    "scrolled": true
   },
   "outputs": [
    {
     "name": "stdout",
     "output_type": "stream",
     "text": [
      "Fitting 3 folds for each of 100 candidates, totalling 300 fits\n"
     ]
    },
    {
     "name": "stderr",
     "output_type": "stream",
     "text": [
      "[Parallel(n_jobs=-1)]: Using backend LokyBackend with 8 concurrent workers.\n",
      "[Parallel(n_jobs=-1)]: Done  25 tasks      | elapsed:  2.9min\n",
      "[Parallel(n_jobs=-1)]: Done 146 tasks      | elapsed: 14.9min\n",
      "[Parallel(n_jobs=-1)]: Done 300 out of 300 | elapsed: 27.9min finished\n"
     ]
    },
    {
     "data": {
      "text/plain": [
       "RandomizedSearchCV(cv=3, estimator=GradientBoostingClassifier(random_state=0),\n",
       "                   n_iter=100, n_jobs=-1,\n",
       "                   param_distributions={'max_depth': [10, 20, 30, 40, 50, 60,\n",
       "                                                      70, 80, 90, 100, None],\n",
       "                                        'max_features': ['auto', 'sqrt'],\n",
       "                                        'min_samples_leaf': [1, 2, 4],\n",
       "                                        'min_samples_split': [2, 5, 10],\n",
       "                                        'n_estimators': [100, 200, 300, 400,\n",
       "                                                         500, 600, 700, 800,\n",
       "                                                         900, 1000]},\n",
       "                   random_state=0, return_train_score=True, scoring='f1',\n",
       "                   verbose=2)"
      ]
     },
     "execution_count": 41,
     "metadata": {},
     "output_type": "execute_result"
    }
   ],
   "source": [
    "gb=GradientBoostingClassifier(random_state=0)\n",
    "#Random search of parameters, using 3 fold cross validation, \n",
    "#search across 100 different combinations\n",
    "gb_random = RandomizedSearchCV(estimator=gb, param_distributions=random_grid,\n",
    "                              n_iter=100, scoring='f1', \n",
    "                              cv=3, verbose=2, random_state=0, n_jobs=-1,\n",
    "                              return_train_score=True)\n",
    "\n",
    "# Fit the random search model\n",
    "gb_random.fit(train_x,train_y)"
   ]
  },
  {
   "cell_type": "code",
   "execution_count": 42,
   "metadata": {
    "id": "b5-sJOH2E4pJ"
   },
   "outputs": [
    {
     "name": "stdout",
     "output_type": "stream",
     "text": [
      "Accuracy on training set is : 1.0\n",
      "Accuracy on validation set is : 0.9823269513991163\n",
      "Accuracy of Hyper-tuned Gradient Boosting Classifier: 98.23269513991163 \n",
      "\n",
      "              precision    recall  f1-score   support\n",
      "\n",
      "           0       0.97      0.99      0.98      1352\n",
      "           1       0.99      0.97      0.98      1364\n",
      "\n",
      "    accuracy                           0.98      2716\n",
      "   macro avg       0.98      0.98      0.98      2716\n",
      "weighted avg       0.98      0.98      0.98      2716\n",
      "\n"
     ]
    }
   ],
   "source": [
    "gb_hyper = gb_random.best_estimator_\n",
    "gb_hyper.fit(train_x,train_y)\n",
    "print(\"Accuracy on training set is : {}\".format(gb_hyper.score(train_x,train_y)))\n",
    "print(\"Accuracy on validation set is : {}\".format(gb_hyper.score(test_x, test_y)))\n",
    "gbc_predicted = gb_hyper.predict(test_x)\n",
    "gbc_acc_score = accuracy_score(test_y, gbc_predicted)\n",
    "print(\"Accuracy of Hyper-tuned Gradient Boosting Classifier:\",gbc_acc_score*100,'\\n')\n",
    "print(classification_report(test_y, gbc_predicted))"
   ]
  },
  {
   "cell_type": "markdown",
   "metadata": {
    "id": "TXt3BwD_Bucq"
   },
   "source": [
    "### Extreme Gradient Boosting Classifier"
   ]
  },
  {
   "cell_type": "code",
   "execution_count": 43,
   "metadata": {
    "id": "Hcxetn3C9D57"
   },
   "outputs": [
    {
     "name": "stderr",
     "output_type": "stream",
     "text": [
      "C:\\ProgramData\\Anaconda3\\lib\\site-packages\\sklearn\\model_selection\\_search.py:847: FutureWarning: The parameter 'iid' is deprecated in 0.22 and will be removed in 0.24.\n",
      "  warnings.warn(\n"
     ]
    },
    {
     "data": {
      "text/plain": [
       "({'max_depth': 9, 'min_child_weight': 1}, 0.9634433648680785)"
      ]
     },
     "execution_count": 43,
     "metadata": {},
     "output_type": "execute_result"
    }
   ],
   "source": [
    "param_test1 = {\n",
    " 'max_depth':range(3,10,2),\n",
    " 'min_child_weight':range(1,6,2)\n",
    "}\n",
    "gsearch1 = GridSearchCV(estimator = XGBClassifier( learning_rate =0.1, n_estimators=140, max_depth=5,\n",
    " min_child_weight=1, gamma=0, subsample=0.8, colsample_bytree=0.8,\n",
    " objective= 'binary:logistic', nthread=4, scale_pos_weight=1, seed=27), \n",
    " param_grid = param_test1, scoring='roc_auc',n_jobs=4,iid=False, cv=5)\n",
    "gsearch1.fit(train_x,train_y)\n",
    "gsearch1.best_params_, gsearch1.best_score_"
   ]
  },
  {
   "cell_type": "code",
   "execution_count": 44,
   "metadata": {
    "id": "d-cVLnktBNAY"
   },
   "outputs": [
    {
     "name": "stdout",
     "output_type": "stream",
     "text": [
      "Accuracy on training set is : 0.9982809430255403\n",
      "Accuracy on validation set is : 0.9134756995581738\n",
      "Accuracy of Hyper-tuned Extreme Gradient Boosting Classifier: 91.34756995581738 \n",
      "\n",
      "              precision    recall  f1-score   support\n",
      "\n",
      "           0       0.97      0.85      0.91      1352\n",
      "           1       0.87      0.97      0.92      1364\n",
      "\n",
      "    accuracy                           0.91      2716\n",
      "   macro avg       0.92      0.91      0.91      2716\n",
      "weighted avg       0.92      0.91      0.91      2716\n",
      "\n"
     ]
    }
   ],
   "source": [
    "xgb_hyper = gsearch1.best_estimator_\n",
    "xgb_hyper.fit(train_x, train_y)\n",
    "print(\"Accuracy on training set is : {}\".format(xgb_hyper.score(train_x,train_y)))\n",
    "print(\"Accuracy on validation set is : {}\".format(xgb_hyper.score(test_x, test_y)))\n",
    "xgbc_predicted = xgb_hyper.predict(test_x)\n",
    "xgbc_acc_score = accuracy_score(test_y, xgbc_predicted)\n",
    "print(\"Accuracy of Hyper-tuned Extreme Gradient Boosting Classifier:\",xgbc_acc_score*100,'\\n')\n",
    "print(classification_report(test_y, xgbc_predicted))"
   ]
  },
  {
   "cell_type": "code",
   "execution_count": 45,
   "metadata": {
    "colab": {
     "base_uri": "https://localhost:8080/",
     "height": 238
    },
    "execution": {
     "iopub.execute_input": "2020-08-25T04:34:33.803133Z",
     "iopub.status.busy": "2020-08-25T04:34:33.794637Z",
     "iopub.status.idle": "2020-08-25T04:34:34.194787Z",
     "shell.execute_reply": "2020-08-25T04:34:34.194128Z"
    },
    "id": "fKlA49uXxFnj",
    "outputId": "e1ccfaf4-d6d8-4a6e-b497-25786f8282bb",
    "papermill": {
     "duration": 0.477511,
     "end_time": "2020-08-25T04:34:34.194956",
     "exception": false,
     "start_time": "2020-08-25T04:34:33.717445",
     "status": "completed"
    },
    "tags": []
   },
   "outputs": [
    {
     "data": {
      "image/png": "[encoded data removed]",
      "text/plain": [
       "<Figure size 1080x576 with 1 Axes>"
      ]
     },
     "metadata": {},
     "output_type": "display_data"
    }
   ],
   "source": [
    "lr_false_positive_rate,lr_true_positive_rate,lr_threshold = roc_curve(test_y,lr_predict)\n",
    "knn_false_positive_rate,knn_true_positive_rate,knn_threshold = roc_curve(test_y,knn_predict)\n",
    "rf_false_positive_rate,rf_true_positive_rate,rf_threshold = roc_curve(test_y,rf_predicted)                                                             \n",
    "dt_false_positive_rate,dt_true_positive_rate,dt_threshold = roc_curve(test_y,dt_predicted)\n",
    "gbc_false_positive_rate,gbc_true_positive_rate,gbc_threshold = roc_curve(test_y,gbc_predicted)\n",
    "xgbc_false_positive_rate,xgbc_true_positive_rate,xgbc_threshold = roc_curve(test_y,xgbc_predicted)\n",
    "\n",
    "sns.set_style('whitegrid')\n",
    "plt.figure(figsize=(15,8), facecolor='w')\n",
    "plt.title('Reciever Operating Characterstic Curve')\n",
    "plt.plot(lr_false_positive_rate,lr_true_positive_rate,label='Logistic Regression')\n",
    "plt.plot(knn_false_positive_rate,knn_true_positive_rate,label='K-Nearest Neighbor')\n",
    "plt.plot(rf_false_positive_rate,rf_true_positive_rate,label='Random Forest')\n",
    "plt.plot(dt_false_positive_rate,dt_true_positive_rate,label='Desion Tree')\n",
    "plt.plot(gbc_false_positive_rate,gbc_true_positive_rate,label='Gradient Boosting Classifier')\n",
    "plt.plot(xgbc_false_positive_rate,xgbc_true_positive_rate,label='Extreme Gradient Boosting Classifier')\n",
    "plt.plot([0,1],ls='--')\n",
    "plt.plot([0,0],[1,0],c='.5')\n",
    "plt.plot([1,1],c='.5')\n",
    "plt.ylabel('True positive rate')\n",
    "plt.xlabel('False positive rate')\n",
    "plt.legend()\n",
    "plt.show()"
   ]
  },
  {
   "cell_type": "markdown",
   "metadata": {
    "id": "jtO1mHWZMX5j"
   },
   "source": [
    "# Conclusion"
   ]
  },
  {
   "cell_type": "markdown",
   "metadata": {
    "id": "MBlxUrHuMTXC"
   },
   "source": [
    "## Thus its concluded that:\n",
    "> ### Best Model: Gradient Boosting Classification( 98.23% )"
   ]
  }
 ],
 "metadata": {
  "colab": {
   "collapsed_sections": [
    "mLhl31GfrS90",
    "312jDtRbrX0V",
    "DuFjl_G_NaU8",
    "Imlks2_BhSYy",
    "YmFlzKoJs2aK",
    "d2WQLJ_EMelN",
    "h1GBQ4FwSU7J",
    "hcqm89CjuQJ8",
    "8701aLrTuQMA",
    "3fXeR3tziiMR",
    "3o2D6PAalNWQ",
    "JEIHuxdAqXzk",
    "shEFOD3uxFnm",
    "YHoqMC5CxFnq",
    "-OCm53AQMsJL"
   ],
   "name": "Task 2. ipynb",
   "provenance": [],
   "toc_visible": true
  },
  "kernelspec": {
   "display_name": "Python 3",
   "language": "python",
   "name": "python3"
  },
  "language_info": {
   "codemirror_mode": {
    "name": "ipython",
    "version": 3
   },
   "file_extension": ".py",
   "mimetype": "text/x-python",
   "name": "python",
   "nbconvert_exporter": "python",
   "pygments_lexer": "ipython3",
   "version": "3.8.3"
  }
 },
 "nbformat": 4,
 "nbformat_minor": 1
}
